{
 "cells": [
  {
   "cell_type": "markdown",
   "metadata": {},
   "source": [
    "# Sudoku Solver\n",
    "Noah McNeal and Alexis Mulski"
   ]
  },
  {
   "cell_type": "code",
   "execution_count": 1,
   "metadata": {},
   "outputs": [],
   "source": [
    "# imports\n",
    "from solver import *"
   ]
  },
  {
   "cell_type": "code",
   "execution_count": 3,
   "metadata": {},
   "outputs": [
    {
     "name": "stdout",
     "output_type": "stream",
     "text": [
      "[[0 0 0 0 0 0 0 0 0]\n",
      " [0 0 0 0 0 0 0 0 0]\n",
      " [0 0 0 0 0 0 0 0 0]\n",
      " [0 0 0 0 0 0 0 0 0]\n",
      " [0 0 0 0 0 0 0 0 0]\n",
      " [0 0 0 0 0 0 0 0 0]\n",
      " [0 0 0 0 0 0 0 0 0]\n",
      " [0 0 0 0 0 0 0 0 0]\n",
      " [0 0 0 0 0 0 0 0 0]]\n",
      "[[530070000 530070000 530070000 530070000 530070000 530070000 530070000\n",
      "  530070000 530070000]\n",
      " [600195000 600195000 600195000 600195000 600195000 600195000 600195000\n",
      "  600195000 600195000]\n",
      " [ 98000060  98000060  98000060  98000060  98000060  98000060  98000060\n",
      "   98000060  98000060]\n",
      " [800060003 800060003 800060003 800060003 800060003 800060003 800060003\n",
      "  800060003 800060003]\n",
      " [400803001 400803001 400803001 400803001 400803001 400803001 400803001\n",
      "  400803001 400803001]\n",
      " [700020006 700020006 700020006 700020006 700020006 700020006 700020006\n",
      "  700020006 700020006]\n",
      " [ 60000280  60000280  60000280  60000280  60000280  60000280  60000280\n",
      "   60000280  60000280]\n",
      " [   419005    419005    419005    419005    419005    419005    419005\n",
      "     419005    419005]\n",
      " [    80079     80079     80079     80079     80079     80079     80079\n",
      "      80079     80079]]\n"
     ]
    }
   ],
   "source": [
    "# instiantiate object of Board class\n",
    "test_board = Board()\n",
    "print(test_board)\n",
    "test_board.readBoard(\"test_board.txt\")\n",
    "print(test_board)"
   ]
  },
  {
   "cell_type": "code",
   "execution_count": null,
   "metadata": {},
   "outputs": [],
   "source": []
  }
 ],
 "metadata": {
  "kernelspec": {
   "display_name": "Python [default]",
   "language": "python",
   "name": "python3"
  },
  "language_info": {
   "codemirror_mode": {
    "name": "ipython",
    "version": 3
   },
   "file_extension": ".py",
   "mimetype": "text/x-python",
   "name": "python",
   "nbconvert_exporter": "python",
   "pygments_lexer": "ipython3",
   "version": "3.5.6"
  }
 },
 "nbformat": 4,
 "nbformat_minor": 5
}
